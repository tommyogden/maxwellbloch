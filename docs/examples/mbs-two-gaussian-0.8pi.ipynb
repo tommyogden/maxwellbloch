{
 "cells": [
  {
   "cell_type": "markdown",
   "metadata": {},
   "source": [
    "# Two-Level: Gaussian Pulse 0.8π "
   ]
  },
  {
   "cell_type": "code",
   "execution_count": null,
   "metadata": {},
   "outputs": [],
   "source": [
    "mb_solve_json = \"\"\"\n",
    "{\n",
    "  \"atom\": {\n",
    "    \"fields\": [\n",
    "      {\n",
    "        \"coupled_levels\": [[0, 1]],\n",
    "        \"rabi_freq_t_args\": {\n",
    "          \"n_pi\": 0.8,\n",
    "          \"centre\": 0.0,\n",
    "          \"fwhm\": 1.0\n",
    "        },\n",
    "        \"rabi_freq_t_func\": \"gaussian\"\n",
    "      }\n",
    "    ],\n",
    "    \"num_states\": 2\n",
    "  },\n",
    "  \"t_min\": -2.0,\n",
    "  \"t_max\": 10.0,\n",
    "  \"t_steps\": 120,\n",
    "  \"z_min\": -0.5,\n",
    "  \"z_max\": 1.5,\n",
    "  \"z_steps\": 100,\n",
    "  \"interaction_strengths\": [\n",
    "    10.0\n",
    "  ],\n",
    "  \"savefile\": \"mbs-two-gaussian-0.8pi\"\n",
    "}\n",
    "\"\"\""
   ]
  },
  {
   "cell_type": "code",
   "execution_count": null,
   "metadata": {},
   "outputs": [],
   "source": [
    "from maxwellbloch import mb_solve\n",
    "mbs = mb_solve.MBSolve().from_json_str(mb_solve_json)"
   ]
  },
  {
   "cell_type": "code",
   "execution_count": null,
   "metadata": {},
   "outputs": [],
   "source": [
    "import numpy as np"
   ]
  },
  {
   "cell_type": "code",
   "execution_count": null,
   "metadata": {},
   "outputs": [],
   "source": [
    "# Check the input pulse area is correct\n",
    "print('The input pulse area is {0:.3f}'.format(\n",
    "    np.trapz(mbs.Omegas_zt[0,0,:].real, mbs.tlist)/np.pi))"
   ]
  },
  {
   "cell_type": "markdown",
   "metadata": {},
   "source": [
    "## Solve the Problem"
   ]
  },
  {
   "cell_type": "code",
   "execution_count": null,
   "metadata": {},
   "outputs": [],
   "source": [
    "Omegas_zt, states_zt = mbs.mbsolve(recalc=False)"
   ]
  },
  {
   "cell_type": "markdown",
   "metadata": {},
   "source": [
    "## Plot Output"
   ]
  },
  {
   "cell_type": "code",
   "execution_count": null,
   "metadata": {},
   "outputs": [],
   "source": [
    "import matplotlib.pyplot as plt\n",
    "%matplotlib inline\n",
    "import seaborn as sns\n",
    "sns.set_style(\"darkgrid\")\n",
    "\n",
    "fig = plt.figure(1, figsize=(16, 6))\n",
    "ax = fig.add_subplot(111)\n",
    "cmap_range = np.linspace(0.0, 1.0, 11)\n",
    "cf = ax.contourf(mbs.tlist, mbs.zlist, \n",
    "                 np.abs(mbs.Omegas_zt[0]/(2*np.pi)), \n",
    "                 cmap_range, cmap=plt.cm.Blues)\n",
    "ax.set_title('Rabi Frequency ($\\Gamma / 2\\pi $)')\n",
    "ax.set_xlabel('Time ($1/\\Gamma$)')\n",
    "ax.set_ylabel('Distance ($L$)')\n",
    "for y in [0.0, 1.0]:\n",
    "    ax.axhline(y, c='grey', lw=1.0, ls='dotted')\n",
    "plt.colorbar(cf);"
   ]
  },
  {
   "cell_type": "markdown",
   "metadata": {},
   "source": [
    "## Movie"
   ]
  },
  {
   "cell_type": "code",
   "execution_count": null,
   "metadata": {},
   "outputs": [],
   "source": [
    "# FNAME = \"mb-solve-two-gaussian-0.8pi\""
   ]
  },
  {
   "cell_type": "code",
   "execution_count": null,
   "metadata": {},
   "outputs": [],
   "source": [
    "# z_steps was 200 for movie"
   ]
  },
  {
   "cell_type": "code",
   "execution_count": null,
   "metadata": {},
   "outputs": [],
   "source": [
    "# C = 0.1 # speed of light\n",
    "# Y_MIN = 0.0 # Y-axis min\n",
    "# Y_MAX = 4.0 # y-axis max\n",
    "# ZOOM = 2 # level of linear interpolation\n",
    "# FPS = 30 # frames per second\n",
    "# ATOMS_ALPHA = 0.2 # Atom indicator transparency"
   ]
  },
  {
   "cell_type": "code",
   "execution_count": null,
   "metadata": {},
   "outputs": [],
   "source": [
    "# FNAME_IMG = \"images/\" + FNAME\n",
    "# FNAME_JSON = FNAME_IMG + '.json'\n",
    "# with open(FNAME_JSON, \"w\") as f:\n",
    "#     f.write(mb_solve_json)"
   ]
  },
  {
   "cell_type": "code",
   "execution_count": null,
   "metadata": {},
   "outputs": [],
   "source": [
    "# !make-mp4-fixed-frame.py -f $FNAME_JSON -c $C --fps $FPS --y-min $Y_MIN --y-max $Y_MAX \\\n",
    "#     --zoom $ZOOM --atoms-alpha $ATOMS_ALPHA #--peak-line --c-line"
   ]
  },
  {
   "cell_type": "code",
   "execution_count": null,
   "metadata": {},
   "outputs": [],
   "source": [
    "# FNAME_MP4 = FNAME_IMG + '.mp4'\n",
    "# !make-gif-ffmpeg.sh -f $FNAME_MP4 --in-fps $FPS"
   ]
  },
  {
   "cell_type": "code",
   "execution_count": null,
   "metadata": {},
   "outputs": [],
   "source": [
    "# from IPython.display import Image\n",
    "# Image(url=FNAME_MP4+'.gif', format='gif')"
   ]
  }
 ],
 "metadata": {
  "kernelspec": {
   "display_name": "Python 3",
   "language": "python",
   "name": "python3"
  },
  "language_info": {
   "codemirror_mode": {
    "name": "ipython",
    "version": 3
   },
   "file_extension": ".py",
   "mimetype": "text/x-python",
   "name": "python",
   "nbconvert_exporter": "python",
   "pygments_lexer": "ipython3",
   "version": "3.7.3"
  }
 },
 "nbformat": 4,
 "nbformat_minor": 2
}
