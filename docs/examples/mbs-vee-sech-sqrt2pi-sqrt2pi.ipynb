{
 "cells": [
  {
   "cell_type": "markdown",
   "metadata": {},
   "source": [
    "# V-Type Three-Level: √2π Sech Pulse, √2π Coupling"
   ]
  },
  {
   "cell_type": "code",
   "execution_count": null,
   "metadata": {},
   "outputs": [],
   "source": [
    "import numpy as np\n",
    "\n",
    "sech_fwhm_conv = 1./2.6339157938\n",
    "t_width = 1.0*sech_fwhm_conv # [τ]\n",
    "\n",
    "print('t_width', t_width)\n",
    "\n",
    "n = np.sqrt(2) # For a pulse area of nπ    \n",
    "ampl = n/t_width/(2*np.pi) # Pulse amplitude [2π Γ]\n",
    "\n",
    "print('ampl', ampl)\n",
    "\n",
    "n = np.sqrt(2) # For a pulse area of nπ    \n",
    "ampl_2 = n/t_width/(2*np.pi) # Pulse amplitude [2π Γ]\n",
    "\n",
    "print('ampl_2', ampl_2)"
   ]
  },
  {
   "cell_type": "code",
   "execution_count": null,
   "metadata": {},
   "outputs": [],
   "source": [
    "a = np.sqrt(2)\n",
    "b = np.sqrt(2)\n",
    "\n",
    "np.sqrt(a**2 + b**2)"
   ]
  },
  {
   "cell_type": "code",
   "execution_count": null,
   "metadata": {},
   "outputs": [],
   "source": [
    "mb_solve_json = \"\"\"\n",
    "{\n",
    "  \"atom\": {\n",
    "    \"fields\": [\n",
    "      {\n",
    "        \"coupled_levels\": [[0, 1]],\n",
    "        \"detuning\": 0.0,\n",
    "        \"detuning_positive\": true,\n",
    "        \"label\": \"probe\",\n",
    "        \"rabi_freq\": 0.592839341136,\n",
    "        \"rabi_freq_t_args\": \n",
    "          {\n",
    "             \"ampl\": 1.0,\n",
    "             \"centre\": 0.0,\n",
    "             \"width\": 0.3796628587572578\n",
    "          },\n",
    "        \"rabi_freq_t_func\": \"sech\"\n",
    "      },\n",
    "      {\n",
    "        \"coupled_levels\": [[0, 2]],\n",
    "        \"detuning\": 0.0,\n",
    "        \"detuning_positive\": true,\n",
    "        \"label\": \"coupling\",\n",
    "        \"rabi_freq\": 0.592839341136,\n",
    "        \"rabi_freq_t_args\": \n",
    "          {\n",
    "             \"ampl\": 1.0,\n",
    "             \"centre\": 0.0,\n",
    "             \"width\": 0.3796628587572578\n",
    "          },\n",
    "        \"rabi_freq_t_func\": \"sech\"\n",
    "      }\n",
    "    ],\n",
    "    \"num_states\": 3\n",
    "  },\n",
    "  \"t_min\": -2.0,\n",
    "  \"t_max\": 10.0,\n",
    "  \"t_steps\": 60,\n",
    "  \"z_min\": -0.2,\n",
    "  \"z_max\": 1.2,\n",
    "  \"z_steps\": 70,\n",
    "  \"z_steps_inner\": 1,\n",
    "  \"num_density_z_func\": \"square\",\n",
    "  \"num_density_z_args\": {\n",
    "    \"on\": 0.0,\n",
    "    \"off\": 1.0,\n",
    "    \"ampl\": 1.0\n",
    "  },\n",
    "  \"interaction_strengths\": [10.0, 10.0],\n",
    "  \"savefile\": \"mbs-vee-sech-sqrt2pi-sqrt2pi\"\n",
    "}\n",
    "\"\"\""
   ]
  },
  {
   "cell_type": "code",
   "execution_count": null,
   "metadata": {},
   "outputs": [],
   "source": [
    "from maxwellbloch import mb_solve\n",
    "mb_solve_00 = mb_solve.MBSolve().from_json_str(mb_solve_json)\n",
    "\n",
    "%time Omegas_zt, states_zt = mb_solve_00.mbsolve(recalc=False)"
   ]
  },
  {
   "cell_type": "code",
   "execution_count": null,
   "metadata": {},
   "outputs": [],
   "source": [
    "import matplotlib.pyplot as plt\n",
    "%matplotlib inline\n",
    "import seaborn as sns\n",
    "\n",
    "sns.set_style('darkgrid')\n",
    "fig = plt.figure(1, figsize=(16, 12))\n",
    "\n",
    "# Probe \n",
    "ax = fig.add_subplot(211)\n",
    "cmap_range = np.linspace(0.0, 0.8, 11)\n",
    "cf = ax.contourf(mb_solve_00.tlist, mb_solve_00.zlist, \n",
    "                 np.abs(mb_solve_00.Omegas_zt[0]/(2*np.pi)), \n",
    "                 cmap_range, cmap=plt.cm.Blues)\n",
    "ax.set_title('Rabi Frequency ($\\Gamma / 2\\pi $)')\n",
    "ax.set_ylabel('Distance ($L$)')\n",
    "ax.text(0.02, 0.95, 'Probe',\n",
    "        verticalalignment='top', horizontalalignment='left',\n",
    "        transform=ax.transAxes, color='grey', fontsize=16)\n",
    "plt.colorbar(cf)\n",
    "\n",
    "# Coupling\n",
    "ax = fig.add_subplot(212)\n",
    "cmap_range = np.linspace(0.0, 0.8, 11)\n",
    "cf = ax.contourf(mb_solve_00.tlist, mb_solve_00.zlist, \n",
    "                 np.abs(mb_solve_00.Omegas_zt[1]/(2*np.pi)), \n",
    "                 cmap_range, cmap=plt.cm.Greens)\n",
    "ax.set_xlabel('Time ($1/\\Gamma$)')\n",
    "ax.set_ylabel('Distance ($L$)')\n",
    "ax.text(0.02, 0.95, 'Coupling',\n",
    "        verticalalignment='top', horizontalalignment='left',\n",
    "        transform=ax.transAxes, color='grey', fontsize=16)\n",
    "plt.colorbar(cf)\n",
    "\n",
    "# Both\n",
    "for ax in fig.axes:\n",
    "    for y in [0.0, 1.0]:\n",
    "        ax.axhline(y, c='grey', lw=1.0, ls='dotted')\n",
    "plt.tight_layout();"
   ]
  },
  {
   "cell_type": "code",
   "execution_count": null,
   "metadata": {},
   "outputs": [],
   "source": [
    "total_area = np.sqrt(mb_solve_00.fields_area()[0]**2 + mb_solve_00.fields_area()[1]**2)\n",
    "\n",
    "fig, ax = plt.subplots(figsize=(16, 4))\n",
    "ax.plot(mb_solve_00.zlist, mb_solve_00.fields_area()[0]/np.pi, label='Probe', clip_on=False)\n",
    "ax.plot(mb_solve_00.zlist, mb_solve_00.fields_area()[1]/np.pi, label='Coupling', clip_on=False)\n",
    "ax.plot(mb_solve_00.zlist, total_area/np.pi, label='Total', ls='dashed', clip_on=False)\n",
    "ax.legend()\n",
    "ax.set_ylim([0.0, 2.0])\n",
    "ax.set_xlabel('Distance ($L$)')\n",
    "ax.set_ylabel('Pulse Area ($\\pi$)');"
   ]
  }
 ],
 "metadata": {
  "kernelspec": {
   "display_name": "Python 3",
   "language": "python",
   "name": "python3"
  },
  "language_info": {
   "codemirror_mode": {
    "name": "ipython",
    "version": 3
   },
   "file_extension": ".py",
   "mimetype": "text/x-python",
   "name": "python",
   "nbconvert_exporter": "python",
   "pygments_lexer": "ipython3",
   "version": "3.7.3"
  }
 },
 "nbformat": 4,
 "nbformat_minor": 2
}
